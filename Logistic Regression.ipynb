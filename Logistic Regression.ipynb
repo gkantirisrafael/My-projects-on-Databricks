{
 "cells": [
  {
   "cell_type": "code",
   "execution_count": 0,
   "metadata": {
    "application/vnd.databricks.v1+cell": {
     "cellMetadata": {},
     "inputWidgets": {},
     "nuid": "f4e73028-114a-4cde-b0b3-7a9c1e286210",
     "showTitle": false,
     "title": ""
    }
   },
   "outputs": [
    {
     "output_type": "stream",
     "name": "stdout",
     "output_type": "stream",
     "text": [
      "+-----+--------------------+\n|label|            features|\n+-----+--------------------+\n|  0.0|(692,[127,128,129...|\n|  1.0|(692,[158,159,160...|\n+-----+--------------------+\nonly showing top 2 rows\n\n"
     ]
    }
   ],
   "source": [
    "from pyspark.sql import SparkSession\n",
    "spark  = SparkSession.builder.appName('logistic_regression').getOrCreate()\n",
    "from pyspark.ml.classification import LogisticRegression\n",
    "data = spark.read.format('libsvm').load('dbfs:/FileStore/shared_uploads/gkantirisrafael@gmail.com/sample_libsvm_data.txt')\n",
    "data.show(2)"
   ]
  },
  {
   "cell_type": "code",
   "execution_count": 0,
   "metadata": {
    "application/vnd.databricks.v1+cell": {
     "cellMetadata": {},
     "inputWidgets": {},
     "nuid": "7b0ddce0-c292-4f9d-8cf3-ce3c4b21971b",
     "showTitle": false,
     "title": ""
    }
   },
   "outputs": [],
   "source": [
    "#We create our logistic regression model here\n",
    "my_log_reg_model = LogisticRegression()"
   ]
  },
  {
   "cell_type": "code",
   "execution_count": 0,
   "metadata": {
    "application/vnd.databricks.v1+cell": {
     "cellMetadata": {},
     "inputWidgets": {},
     "nuid": "a36e4f64-31db-486b-b31f-6b716fd92001",
     "showTitle": false,
     "title": ""
    }
   },
   "outputs": [],
   "source": [
    "#We fit our logistic regression into our data called: data\n",
    "fitted_logred = my_log_reg_model.fit(data)"
   ]
  },
  {
   "cell_type": "code",
   "execution_count": 0,
   "metadata": {
    "application/vnd.databricks.v1+cell": {
     "cellMetadata": {},
     "inputWidgets": {},
     "nuid": "86cfbb2c-627e-46c5-ba60-3f5cc873b453",
     "showTitle": false,
     "title": ""
    }
   },
   "outputs": [],
   "source": [
    "log_summary = fitted_logred.summary"
   ]
  },
  {
   "cell_type": "code",
   "execution_count": 0,
   "metadata": {
    "application/vnd.databricks.v1+cell": {
     "cellMetadata": {},
     "inputWidgets": {},
     "nuid": "7820c3f3-c5b3-4bb0-98cc-d86b4a97968b",
     "showTitle": false,
     "title": ""
    }
   },
   "outputs": [
    {
     "output_type": "stream",
     "name": "stdout",
     "output_type": "stream",
     "text": [
      "+-----+--------------------+--------------------+--------------------+----------+\n|label|            features|       rawPrediction|         probability|prediction|\n+-----+--------------------+--------------------+--------------------+----------+\n|  0.0|(692,[127,128,129...|[20.3777627514872...|[0.99999999858729...|       0.0|\n|  1.0|(692,[158,159,160...|[-21.114014198868...|[6.76550380000486...|       1.0|\n+-----+--------------------+--------------------+--------------------+----------+\nonly showing top 2 rows\n\n"
     ]
    }
   ],
   "source": [
    "#We want to predict if the'label' match the 'prediction'!!\n",
    "log_summary.predictions.show(2)"
   ]
  },
  {
   "cell_type": "code",
   "execution_count": 0,
   "metadata": {
    "application/vnd.databricks.v1+cell": {
     "cellMetadata": {},
     "inputWidgets": {},
     "nuid": "a2caa7b6-f9de-45b5-8d03-4ebf42ed2ed7",
     "showTitle": false,
     "title": ""
    }
   },
   "outputs": [],
   "source": [
    "lr_train,lr_test =  data.randomSplit([0.7,0.3])"
   ]
  },
  {
   "cell_type": "code",
   "execution_count": 0,
   "metadata": {
    "application/vnd.databricks.v1+cell": {
     "cellMetadata": {},
     "inputWidgets": {},
     "nuid": "87b9713d-1f76-42c7-94b6-e63697b34337",
     "showTitle": false,
     "title": ""
    }
   },
   "outputs": [],
   "source": [
    "#We will do again the previous step but we will fit on train data(lr_train) instead of data (Cmd 3)\n",
    "\n",
    "#Here we create a logistic regression model\n",
    "final_model = LogisticRegression()"
   ]
  },
  {
   "cell_type": "code",
   "execution_count": 0,
   "metadata": {
    "application/vnd.databricks.v1+cell": {
     "cellMetadata": {},
     "inputWidgets": {},
     "nuid": "20293147-130b-46e4-b3d4-7ce164fa3624",
     "showTitle": false,
     "title": ""
    }
   },
   "outputs": [],
   "source": [
    "# We fit that model on the train data(lr_train)\n",
    "fit_final = final_model.fit(lr_train)"
   ]
  },
  {
   "cell_type": "code",
   "execution_count": 0,
   "metadata": {
    "application/vnd.databricks.v1+cell": {
     "cellMetadata": {},
     "inputWidgets": {},
     "nuid": "7656bb36-6335-4a61-bd6e-319865ec9b99",
     "showTitle": false,
     "title": ""
    }
   },
   "outputs": [],
   "source": [
    "#Now we evaluate on the test set!!\n",
    "prediction_and_labels = fit_final.evaluate(lr_test)"
   ]
  },
  {
   "cell_type": "code",
   "execution_count": 0,
   "metadata": {
    "application/vnd.databricks.v1+cell": {
     "cellMetadata": {},
     "inputWidgets": {},
     "nuid": "48144e66-3adf-4ffd-a3dd-1c773f1b1a80",
     "showTitle": false,
     "title": ""
    }
   },
   "outputs": [
    {
     "output_type": "stream",
     "name": "stdout",
     "output_type": "stream",
     "text": [
      "+-----+--------------------+--------------------+--------------------+----------+\n|label|            features|       rawPrediction|         probability|prediction|\n+-----+--------------------+--------------------+--------------------+----------+\n|  0.0|(692,[95,96,97,12...|[21.9253733877297...|[0.99999999969944...|       0.0|\n|  0.0|(692,[98,99,100,1...|[27.5296530179557...|[0.99999999999889...|       0.0|\n+-----+--------------------+--------------------+--------------------+----------+\nonly showing top 2 rows\n\n"
     ]
    }
   ],
   "source": [
    "prediction_and_labels.predictions.show(2)"
   ]
  },
  {
   "cell_type": "code",
   "execution_count": 0,
   "metadata": {
    "application/vnd.databricks.v1+cell": {
     "cellMetadata": {},
     "inputWidgets": {},
     "nuid": "973e7d88-148c-4f65-9d30-7462457b2874",
     "showTitle": false,
     "title": ""
    }
   },
   "outputs": [],
   "source": [
    "from pyspark.ml.evaluation import BinaryClassificationEvaluator,MulticlassClassificationEvaluator\n",
    "my_eval = BinaryClassificationEvaluator()"
   ]
  },
  {
   "cell_type": "code",
   "execution_count": 0,
   "metadata": {
    "application/vnd.databricks.v1+cell": {
     "cellMetadata": {},
     "inputWidgets": {},
     "nuid": "8cb71938-34e1-4fa7-b841-0567815b809a",
     "showTitle": false,
     "title": ""
    }
   },
   "outputs": [],
   "source": [
    "my_final_ROC_result = my_eval.evaluate(prediction_and_labels.predictions)"
   ]
  },
  {
   "cell_type": "code",
   "execution_count": 0,
   "metadata": {
    "application/vnd.databricks.v1+cell": {
     "cellMetadata": {},
     "inputWidgets": {},
     "nuid": "978d784e-1c57-4f62-9b73-c931b3ad4d81",
     "showTitle": false,
     "title": ""
    }
   },
   "outputs": [
    {
     "output_type": "stream",
     "name": "stdout",
     "output_type": "stream",
     "text": [
      "Out[27]: 1.0"
     ]
    }
   ],
   "source": [
    "#1 = everything predicted corectly!\n",
    "my_final_ROC_result"
   ]
  },
  {
   "cell_type": "code",
   "execution_count": 0,
   "metadata": {
    "application/vnd.databricks.v1+cell": {
     "cellMetadata": {},
     "inputWidgets": {},
     "nuid": "4633777d-a35e-475d-bc38-5d310bd31a7a",
     "showTitle": false,
     "title": ""
    }
   },
   "outputs": [],
   "source": []
  }
 ],
 "metadata": {
  "application/vnd.databricks.v1+notebook": {
   "dashboards": [],
   "language": "python",
   "notebookMetadata": {
    "pythonIndentUnit": 4
   },
   "notebookName": "Logistic Regression",
   "widgets": {}
  }
 },
 "nbformat": 4,
 "nbformat_minor": 0
}
