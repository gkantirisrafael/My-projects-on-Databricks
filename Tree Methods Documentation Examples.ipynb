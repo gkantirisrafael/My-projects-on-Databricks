{
 "cells": [
  {
   "cell_type": "code",
   "execution_count": 0,
   "metadata": {
    "application/vnd.databricks.v1+cell": {
     "cellMetadata": {},
     "inputWidgets": {},
     "nuid": "46138829-b156-49cd-869c-4c32dd8cc852",
     "showTitle": false,
     "title": ""
    }
   },
   "outputs": [],
   "source": [
    "from pyspark.sql import SparkSession\n",
    "spark = SparkSession.builder.appName('mytree').getOrCreate()\n",
    "from pyspark.ml import Pipeline\n",
    "from pyspark.ml.classification import RandomForestClassifier,GBTClassifier,DecisionTreeClassifier\n",
    "#those function can be used to regression too. (pysparl.ml.regression)"
   ]
  },
  {
   "cell_type": "code",
   "execution_count": 0,
   "metadata": {
    "application/vnd.databricks.v1+cell": {
     "cellMetadata": {},
     "inputWidgets": {},
     "nuid": "19362f18-2f1d-4bff-8e9a-3bf56e5dea8f",
     "showTitle": false,
     "title": ""
    }
   },
   "outputs": [],
   "source": [
    "data = spark.read.format('libsvm').load('dbfs:/FileStore/shared_uploads/gkantirisrafael@gmail.com/sample_libsvm_data-1.txt')"
   ]
  },
  {
   "cell_type": "code",
   "execution_count": 0,
   "metadata": {
    "application/vnd.databricks.v1+cell": {
     "cellMetadata": {},
     "inputWidgets": {},
     "nuid": "41e0d505-ee93-404b-b700-1453e0627250",
     "showTitle": false,
     "title": ""
    }
   },
   "outputs": [
    {
     "output_type": "stream",
     "name": "stdout",
     "output_type": "stream",
     "text": [
      "+-----+--------------------+\n|label|            features|\n+-----+--------------------+\n|  0.0|(692,[127,128,129...|\n|  1.0|(692,[158,159,160...|\n|  1.0|(692,[124,125,126...|\n+-----+--------------------+\nonly showing top 3 rows\n\n"
     ]
    }
   ],
   "source": [
    "data.show(3)"
   ]
  },
  {
   "cell_type": "code",
   "execution_count": 0,
   "metadata": {
    "application/vnd.databricks.v1+cell": {
     "cellMetadata": {},
     "inputWidgets": {},
     "nuid": "136e2a20-6830-4dd0-962d-8d3b5a4d5738",
     "showTitle": false,
     "title": ""
    }
   },
   "outputs": [],
   "source": [
    "#We will split the data into test and train data\n",
    "train_data,test_data = data.randomSplit([0.7,0.3])"
   ]
  },
  {
   "cell_type": "code",
   "execution_count": 0,
   "metadata": {
    "application/vnd.databricks.v1+cell": {
     "cellMetadata": {},
     "inputWidgets": {},
     "nuid": "4440d3f8-a371-4345-9c19-f1754cd0f9fe",
     "showTitle": false,
     "title": ""
    }
   },
   "outputs": [],
   "source": [
    "#Now we create various models.      Let's start with the decision tree classifier AND the random forest classifier AND Gradient Boosting Tree Classifier(GBT)\n",
    "dtc = DecisionTreeClassifier()\n",
    "rfc = RandomForestClassifier(numTrees=100) \n",
    "gbt = GBTClassifier()"
   ]
  },
  {
   "cell_type": "code",
   "execution_count": 0,
   "metadata": {
    "application/vnd.databricks.v1+cell": {
     "cellMetadata": {},
     "inputWidgets": {},
     "nuid": "80cc831b-c9e2-4f8c-9b51-cdf61ec2a39a",
     "showTitle": false,
     "title": ""
    }
   },
   "outputs": [],
   "source": [
    "# Now we want to fit the classifiers with the train data into a model\n",
    "dtc_model = dtc.fit(train_data)\n",
    "rfc_model = rfc.fit(train_data)\n",
    "gbt_model = gbt.fit(train_data)"
   ]
  },
  {
   "cell_type": "code",
   "execution_count": 0,
   "metadata": {
    "application/vnd.databricks.v1+cell": {
     "cellMetadata": {},
     "inputWidgets": {},
     "nuid": "4b1e2cea-6ca0-4694-a7ae-19dc5a7800e6",
     "showTitle": false,
     "title": ""
    }
   },
   "outputs": [],
   "source": [
    "#Now we can use them to transform the test data to get predictions!!\n",
    "dtc_predictions = dtc_model.transform(test_data)\n",
    "rfc_predictions = rfc_model.transform(test_data)\n",
    "gbt_predictions = gbt_model.transform(test_data)"
   ]
  },
  {
   "cell_type": "code",
   "execution_count": 0,
   "metadata": {
    "application/vnd.databricks.v1+cell": {
     "cellMetadata": {},
     "inputWidgets": {},
     "nuid": "dd251441-59ec-429d-a622-bd6206cc4904",
     "showTitle": false,
     "title": ""
    }
   },
   "outputs": [
    {
     "output_type": "stream",
     "name": "stdout",
     "output_type": "stream",
     "text": [
      "+-----+--------------------+--------------------+--------------------+----------+\n|label|            features|       rawPrediction|         probability|prediction|\n+-----+--------------------+--------------------+--------------------+----------+\n|  0.0|(692,[98,99,100,1...|[1.54350200272498...|[0.95635347857270...|       0.0|\n|  0.0|(692,[122,123,124...|[1.54350200272498...|[0.95635347857270...|       0.0|\n|  0.0|(692,[124,125,126...|[1.54350200272498...|[0.95635347857270...|       0.0|\n+-----+--------------------+--------------------+--------------------+----------+\nonly showing top 3 rows\n\n"
     ]
    }
   ],
   "source": [
    "#Let's take a look into one of these\n",
    "gbt_predictions.show(3)"
   ]
  },
  {
   "cell_type": "code",
   "execution_count": 0,
   "metadata": {
    "application/vnd.databricks.v1+cell": {
     "cellMetadata": {},
     "inputWidgets": {},
     "nuid": "f7aff516-02fd-4744-ac0e-a76c9b1b2e30",
     "showTitle": false,
     "title": ""
    }
   },
   "outputs": [],
   "source": [
    "#Let's see how we can use an evaluator here\n",
    "from pyspark.ml.evaluation import MulticlassClassificationEvaluator"
   ]
  },
  {
   "cell_type": "code",
   "execution_count": 0,
   "metadata": {
    "application/vnd.databricks.v1+cell": {
     "cellMetadata": {},
     "inputWidgets": {},
     "nuid": "22b160d6-c7e7-4d56-8e98-5a41f23b9bd6",
     "showTitle": false,
     "title": ""
    }
   },
   "outputs": [],
   "source": [
    "#Let's create a Multi-Class Classification Evaluator that works for accuracy\n",
    "acc_eval = MulticlassClassificationEvaluator(metricName='accuracy')"
   ]
  },
  {
   "cell_type": "code",
   "execution_count": 0,
   "metadata": {
    "application/vnd.databricks.v1+cell": {
     "cellMetadata": {},
     "inputWidgets": {},
     "nuid": "8a62820f-159b-42dc-b34b-48b00448cd90",
     "showTitle": false,
     "title": ""
    }
   },
   "outputs": [
    {
     "output_type": "stream",
     "name": "stdout",
     "output_type": "stream",
     "text": [
      "DTC ACCURACY: 0.9285714285714286\nRFC ACCURACY: 1.0\nGBT ACCURACY: 0.9285714285714286\n"
     ]
    }
   ],
   "source": [
    "print('DTC ACCURACY:',acc_eval.evaluate(dtc_predictions))\n",
    "print('RFC ACCURACY:',acc_eval.evaluate(rfc_predictions))\n",
    "print('GBT ACCURACY:',acc_eval.evaluate(gbt_predictions))"
   ]
  },
  {
   "cell_type": "code",
   "execution_count": 0,
   "metadata": {
    "application/vnd.databricks.v1+cell": {
     "cellMetadata": {},
     "inputWidgets": {},
     "nuid": "15d7ed52-26fd-42ff-b834-0b4593db70df",
     "showTitle": false,
     "title": ""
    }
   },
   "outputs": [
    {
     "output_type": "stream",
     "name": "stdout",
     "output_type": "stream",
     "text": [
      "Out[32]: SparseVector(692, {100: 0.0011, 127: 0.0003, 131: 0.0017, 154: 0.0001, 178: 0.005, 182: 0.0021, 189: 0.001, 206: 0.0043, 208: 0.0046, 209: 0.0068, 214: 0.0026, 216: 0.0008, 232: 0.0003, 235: 0.001, 238: 0.0005, 243: 0.0092, 244: 0.008, 264: 0.0005, 272: 0.0057, 273: 0.0077, 274: 0.0005, 275: 0.0008, 287: 0.0026, 289: 0.0136, 296: 0.0004, 298: 0.0011, 299: 0.0041, 300: 0.0005, 317: 0.0141, 322: 0.0067, 323: 0.0254, 324: 0.0079, 326: 0.0009, 328: 0.0151, 329: 0.0063, 331: 0.0007, 342: 0.0041, 343: 0.0005, 345: 0.0023, 349: 0.0045, 350: 0.0045, 351: 0.02, 352: 0.0013, 353: 0.0006, 356: 0.0083, 357: 0.008, 359: 0.0025, 370: 0.0005, 373: 0.0086, 374: 0.0015, 377: 0.0205, 378: 0.02, 379: 0.0451, 382: 0.0015, 385: 0.0011, 386: 0.0062, 397: 0.0012, 398: 0.0029, 399: 0.0209, 400: 0.0159, 401: 0.0053, 402: 0.0058, 403: 0.0006, 404: 0.0003, 405: 0.071, 407: 0.0223, 408: 0.0006, 409: 0.002, 412: 0.0022, 414: 0.0072, 415: 0.0022, 425: 0.0013, 427: 0.0079, 428: 0.0027, 429: 0.0064, 432: 0.0019, 433: 0.0117, 434: 0.0668, 435: 0.0203, 436: 0.0012, 439: 0.0034, 441: 0.0074, 443: 0.0023, 453: 0.001, 454: 0.0137, 455: 0.0109, 456: 0.0155, 458: 0.0011, 461: 0.0176, 462: 0.03, 463: 0.0022, 464: 0.0006, 466: 0.0009, 467: 0.0057, 469: 0.0076, 470: 0.0009, 482: 0.0036, 483: 0.0096, 484: 0.0183, 489: 0.038, 490: 0.0288, 491: 0.0015, 495: 0.0023, 496: 0.002, 497: 0.0019, 511: 0.0294, 512: 0.0173, 515: 0.0004, 517: 0.021, 518: 0.0073, 519: 0.0011, 539: 0.0006, 540: 0.0213, 544: 0.0011, 545: 0.0024, 546: 0.0008, 547: 0.0005, 548: 0.0005, 550: 0.0064, 552: 0.007, 568: 0.0082, 578: 0.0189, 581: 0.0004, 595: 0.0065, 600: 0.0005, 601: 0.0005, 604: 0.0012, 606: 0.0016, 623: 0.0014, 624: 0.0006, 628: 0.0021, 630: 0.0024, 632: 0.002, 654: 0.0001, 660: 0.0022, 685: 0.0017})"
     ]
    }
   ],
   "source": [
    "#We have the ability to grab feature importance using the fitted model\n",
    "rfc_model.featureImportances\n",
    "#Example: Feature:100 , Importance:0.0011 -----> The higher this number is the more important the feature was"
   ]
  },
  {
   "cell_type": "code",
   "execution_count": 0,
   "metadata": {
    "application/vnd.databricks.v1+cell": {
     "cellMetadata": {},
     "inputWidgets": {},
     "nuid": "931f2aa4-496b-4b29-ae64-d36bf3ebcdef",
     "showTitle": false,
     "title": ""
    }
   },
   "outputs": [],
   "source": []
  }
 ],
 "metadata": {
  "application/vnd.databricks.v1+notebook": {
   "dashboards": [],
   "language": "python",
   "notebookMetadata": {
    "pythonIndentUnit": 4
   },
   "notebookName": "Tree Methods Documentation Examples",
   "widgets": {}
  }
 },
 "nbformat": 4,
 "nbformat_minor": 0
}
