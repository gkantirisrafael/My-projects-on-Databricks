{
 "cells": [
  {
   "cell_type": "code",
   "execution_count": 0,
   "metadata": {
    "application/vnd.databricks.v1+cell": {
     "cellMetadata": {},
     "inputWidgets": {},
     "nuid": "1cea0d60-17dd-40e5-afa2-8457e85f957b",
     "showTitle": false,
     "title": ""
    }
   },
   "outputs": [],
   "source": [
    "from pyspark.sql import SparkSession"
   ]
  },
  {
   "cell_type": "code",
   "execution_count": 0,
   "metadata": {
    "application/vnd.databricks.v1+cell": {
     "cellMetadata": {},
     "inputWidgets": {},
     "nuid": "eaff58b3-90f8-4d6b-bf5f-b76bb206253c",
     "showTitle": false,
     "title": ""
    }
   },
   "outputs": [],
   "source": [
    "# Start a simple Spark Session\n",
    "spark  = SparkSession.builder.appName('Exc').getOrCreate()"
   ]
  },
  {
   "cell_type": "code",
   "execution_count": 0,
   "metadata": {
    "application/vnd.databricks.v1+cell": {
     "cellMetadata": {},
     "inputWidgets": {},
     "nuid": "9f3407aa-cf28-4602-be51-7c2a11b81832",
     "showTitle": false,
     "title": ""
    }
   },
   "outputs": [],
   "source": [
    "# Load the Walmart Stock CSV File, have Spark infer the data types.\n",
    "df = sqlContext.sql('SELECT * FROM walmart_stock')"
   ]
  },
  {
   "cell_type": "code",
   "execution_count": 0,
   "metadata": {
    "application/vnd.databricks.v1+cell": {
     "cellMetadata": {},
     "inputWidgets": {},
     "nuid": "87ed3ed2-eb3f-406c-acc6-269c1d841c9d",
     "showTitle": false,
     "title": ""
    }
   },
   "outputs": [],
   "source": [
    "from pyspark.sql.functions import format_number,filter,cast,dayofyear,desc,mean,max,min,count"
   ]
  },
  {
   "cell_type": "code",
   "execution_count": 0,
   "metadata": {
    "application/vnd.databricks.v1+cell": {
     "cellMetadata": {},
     "inputWidgets": {},
     "nuid": "d58f3f1f-f7bd-4ef5-86d2-cc2998f2de8f",
     "showTitle": true,
     "title": ""
    }
   },
   "outputs": [
    {
     "output_type": "stream",
     "name": "stdout",
     "output_type": "stream",
     "text": [
      "Out[113]: ['Date', 'Open', 'High', 'Low', 'Close', 'Volume', 'Adj Close']"
     ]
    }
   ],
   "source": [
    "# What are the column names?\n",
    "df.columns"
   ]
  },
  {
   "cell_type": "code",
   "execution_count": 0,
   "metadata": {
    "application/vnd.databricks.v1+cell": {
     "cellMetadata": {},
     "inputWidgets": {},
     "nuid": "c6a3333d-1619-4d7b-b379-1adfd622271e",
     "showTitle": false,
     "title": ""
    }
   },
   "outputs": [
    {
     "output_type": "stream",
     "name": "stdout",
     "output_type": "stream",
     "text": [
      "root\n |-- Date: timestamp (nullable = true)\n |-- Open: float (nullable = true)\n |-- High: float (nullable = true)\n |-- Low: float (nullable = true)\n |-- Close: float (nullable = true)\n |-- Volume: integer (nullable = true)\n |-- Adj Close: float (nullable = true)\n\n"
     ]
    }
   ],
   "source": [
    "# What does the Schema look like?\n",
    "df.printSchema()"
   ]
  },
  {
   "cell_type": "code",
   "execution_count": 0,
   "metadata": {
    "application/vnd.databricks.v1+cell": {
     "cellMetadata": {},
     "inputWidgets": {},
     "nuid": "083c88e7-5b41-494e-9491-c723c60238c8",
     "showTitle": false,
     "title": ""
    }
   },
   "outputs": [
    {
     "output_type": "stream",
     "name": "stdout",
     "output_type": "stream",
     "text": [
      "Row(Date=datetime.datetime(2012, 1, 3, 0, 0), Open=59.970001220703125, High=61.060001373291016, Low=59.869998931884766, Close=60.33000183105469, Volume=12668800, Adj Close=52.61923599243164)\n\n\nRow(Date=datetime.datetime(2012, 1, 4, 0, 0), Open=60.209999084472656, High=60.349998474121094, Low=59.470001220703125, Close=59.709999084472656, Volume=9593300, Adj Close=52.07847595214844)\n\n\nRow(Date=datetime.datetime(2012, 1, 5, 0, 0), Open=59.349998474121094, High=59.619998931884766, Low=58.369998931884766, Close=59.41999816894531, Volume=12768200, Adj Close=51.825538635253906)\n\n\nRow(Date=datetime.datetime(2012, 1, 6, 0, 0), Open=59.41999816894531, High=59.45000076293945, Low=58.869998931884766, Close=59.0, Volume=8069400, Adj Close=51.45922088623047)\n\n\nRow(Date=datetime.datetime(2012, 1, 9, 0, 0), Open=59.029998779296875, High=59.54999923706055, Low=58.91999816894531, Close=59.18000030517578, Volume=6679300, Adj Close=51.616214752197266)\n\n\n"
     ]
    }
   ],
   "source": [
    "# Print out the first 5 columns.\n",
    "for row in df.head(5):\n",
    "    print (row)\n",
    "    print('\\n')"
   ]
  },
  {
   "cell_type": "code",
   "execution_count": 0,
   "metadata": {
    "application/vnd.databricks.v1+cell": {
     "cellMetadata": {},
     "inputWidgets": {},
     "nuid": "de002d2a-d823-419b-8205-7a1a1b0f8c7e",
     "showTitle": false,
     "title": ""
    }
   },
   "outputs": [
    {
     "output_type": "stream",
     "name": "stdout",
     "output_type": "stream",
     "text": [
      "+-------+-----------------+-----------------+-----------------+-----------------+-----------------+-----------------+\n|summary|             Open|             High|              Low|            Close|           Volume|        Adj Close|\n+-------+-----------------+-----------------+-----------------+-----------------+-----------------+-----------------+\n|  count|             1258|             1258|             1258|             1258|             1258|             1258|\n|   mean|72.35785375452572| 72.8393880756178|71.91860094964979|72.38844997363553|8222093.481717011|67.23883840200064|\n| stddev|6.768090251767697|6.768186825250206|6.744075739203606|6.756859160119612|  4519780.8431556|6.722609385249684|\n|    min|            56.39|            57.06|             56.3|            56.42|          2094900|         50.36369|\n|    max|             90.8|            90.97|            89.25|            90.47|         80898100|        84.914215|\n+-------+-----------------+-----------------+-----------------+-----------------+-----------------+-----------------+\n\n"
     ]
    }
   ],
   "source": [
    "# Use describe() to learn about the DataFrame.\n",
    "df.describe().show()"
   ]
  },
  {
   "cell_type": "code",
   "execution_count": 0,
   "metadata": {
    "application/vnd.databricks.v1+cell": {
     "cellMetadata": {},
     "inputWidgets": {},
     "nuid": "91d5d930-adf0-4ea4-9d0a-cbd8fc544d8b",
     "showTitle": false,
     "title": ""
    }
   },
   "outputs": [],
   "source": [
    "result = df.describe()"
   ]
  },
  {
   "cell_type": "code",
   "execution_count": 0,
   "metadata": {
    "application/vnd.databricks.v1+cell": {
     "cellMetadata": {},
     "inputWidgets": {},
     "nuid": "07189f42-a10c-4e2f-b443-a4904f4bda87",
     "showTitle": false,
     "title": ""
    }
   },
   "outputs": [
    {
     "output_type": "stream",
     "name": "stdout",
     "output_type": "stream",
     "text": [
      "+-------+--------+--------+--------+--------+--------+\n|summary|    Open|    High|     Low|   Close|  Volume|\n+-------+--------+--------+--------+--------+--------+\n|  count|1,258.00|1,258.00|1,258.00|1,258.00|    1258|\n|   mean|   72.36|   72.84|   71.92|   72.39| 8222093|\n| stddev|    6.77|    6.77|    6.74|    6.76| 4519780|\n|    min|   56.39|   57.06|   56.30|   56.42| 2094900|\n|    max|   90.80|   90.97|   89.25|   90.47|80898100|\n+-------+--------+--------+--------+--------+--------+\n\n"
     ]
    }
   ],
   "source": [
    "# There are too many decimal places for mean and stddev in the describe() dataframe. Format the numbers to just show up to two decimal places.\n",
    "result.select(result['summary'],\n",
    "              format_number(result['Open'].cast('float'),2).alias('Open'),\n",
    "              format_number(result['High'].cast('float'),2).alias('High'),\n",
    "              format_number(result['Low'].cast('float'),2).alias('Low'),\n",
    "              format_number(result['Close'].cast('float'),2).alias('Close'),\n",
    "              result['Volume'].cast('int').alias('Volume')).show()\n"
   ]
  },
  {
   "cell_type": "code",
   "execution_count": 0,
   "metadata": {
    "application/vnd.databricks.v1+cell": {
     "cellMetadata": {},
     "inputWidgets": {},
     "nuid": "0d8dbfe2-5a50-452d-b164-8bcacfd35bda",
     "showTitle": false,
     "title": ""
    }
   },
   "outputs": [
    {
     "output_type": "stream",
     "name": "stdout",
     "output_type": "stream",
     "text": [
      "+--------------------+\n|            HV Ratio|\n+--------------------+\n|4.819714682786927E-6|\n|6.290848662516662E-6|\n| 4.66941298944916E-6|\n| 7.36733843444859E-6|\n|8.915604814435727E-6|\n|8.644477449144044E-6|\n|9.351828386844425E-6|\n| 8.29141562102703E-6|\n|7.712212051589609E-6|\n|7.071764777688419...|\n|1.015495462653464...|\n|  6.5763540967921E-6|\n| 5.90145296180676E-6|\n|8.547679390846264E-6|\n|8.420709512685392E-6|\n|1.041448335142357...|\n|8.316075435382035E-6|\n|9.721183804158345E-6|\n|8.029435987746889E-6|\n|6.307432228123159E-6|\n+--------------------+\nonly showing top 20 rows\n\n"
     ]
    }
   ],
   "source": [
    "# Create a new dataframe with a column called HV Ratio that is the ratio of the High Price versus volume of stock traded for a day.\n",
    "df1 = df.withColumn('HV Ratio',df['High']/df['Volume'])\n",
    "df1.select('HV Ratio').show()"
   ]
  },
  {
   "cell_type": "code",
   "execution_count": 0,
   "metadata": {
    "application/vnd.databricks.v1+cell": {
     "cellMetadata": {},
     "inputWidgets": {},
     "nuid": "416498cb-1f13-40c9-87ce-e8f3258fc0c8",
     "showTitle": false,
     "title": ""
    }
   },
   "outputs": [
    {
     "output_type": "stream",
     "name": "stdout",
     "output_type": "stream",
     "text": [
      "Out[120]: datetime.datetime(2015, 1, 13, 0, 0)"
     ]
    }
   ],
   "source": [
    "# What day had the Peak High in Price?\n",
    "df.orderBy(df['High'].desc()).head(1)[0][0]"
   ]
  },
  {
   "cell_type": "code",
   "execution_count": 0,
   "metadata": {
    "application/vnd.databricks.v1+cell": {
     "cellMetadata": {},
     "inputWidgets": {},
     "nuid": "40bc21c7-0069-4c9e-9ed9-1ba7756cd373",
     "showTitle": false,
     "title": ""
    }
   },
   "outputs": [
    {
     "output_type": "stream",
     "name": "stdout",
     "output_type": "stream",
     "text": [
      "+-----------------+\n|       avg(Close)|\n+-----------------+\n|72.38844997363553|\n+-----------------+\n\n"
     ]
    }
   ],
   "source": [
    "# What is the mean of the Close column?\n",
    "df.select(mean('Close')).show()"
   ]
  },
  {
   "cell_type": "code",
   "execution_count": 0,
   "metadata": {
    "application/vnd.databricks.v1+cell": {
     "cellMetadata": {},
     "inputWidgets": {},
     "nuid": "aa82a3a0-6529-40fd-ac0a-484df7f7ecc0",
     "showTitle": false,
     "title": ""
    }
   },
   "outputs": [
    {
     "output_type": "stream",
     "name": "stdout",
     "output_type": "stream",
     "text": [
      "+-----------+-----------+\n|max(Volume)|min(Volume)|\n+-----------+-----------+\n|   80898100|    2094900|\n+-----------+-----------+\n\n"
     ]
    }
   ],
   "source": [
    "# What is the max and min of the Volume column?\n",
    "df.select(max('Volume'),min('Volume')).show()"
   ]
  },
  {
   "cell_type": "code",
   "execution_count": 0,
   "metadata": {
    "application/vnd.databricks.v1+cell": {
     "cellMetadata": {},
     "inputWidgets": {},
     "nuid": "da6478a5-29eb-42b9-a925-c9518e14cd09",
     "showTitle": false,
     "title": ""
    }
   },
   "outputs": [
    {
     "output_type": "stream",
     "name": "stdout",
     "output_type": "stream",
     "text": [
      "Out[123]: 81"
     ]
    }
   ],
   "source": [
    "# How many days was the Close lower than 60 dollars?\n",
    "df.filter('Close < 60').count()\n",
    "df.filter(df['Close']<60).count()"
   ]
  },
  {
   "cell_type": "code",
   "execution_count": 0,
   "metadata": {
    "application/vnd.databricks.v1+cell": {
     "cellMetadata": {},
     "inputWidgets": {},
     "nuid": "52fe31fb-fa48-4e47-a37f-d56c895d2bda",
     "showTitle": false,
     "title": ""
    }
   },
   "outputs": [
    {
     "output_type": "stream",
     "name": "stdout",
     "output_type": "stream",
     "text": [
      "Out[124]: 9.141494435612083"
     ]
    }
   ],
   "source": [
    "# What percentage of the time was the High greater than 80 dollars ?\n",
    "df.filter(df['High']>80).count()/df.count()*100"
   ]
  },
  {
   "cell_type": "code",
   "execution_count": 0,
   "metadata": {
    "application/vnd.databricks.v1+cell": {
     "cellMetadata": {},
     "inputWidgets": {},
     "nuid": "8cfbb4d0-5b7a-4d97-9121-fa4636983f66",
     "showTitle": false,
     "title": ""
    }
   },
   "outputs": [
    {
     "output_type": "stream",
     "name": "stdout",
     "output_type": "stream",
     "text": [
      "+-------------------+\n| corr(High, Volume)|\n+-------------------+\n|-0.3384326061799556|\n+-------------------+\n\n"
     ]
    }
   ],
   "source": [
    "# What is the Pearson correlation between High and Volume?\n",
    "from pyspark.sql.functions import corr,year,month\n",
    "df.select(corr('High','Volume')).show()"
   ]
  },
  {
   "cell_type": "code",
   "execution_count": 0,
   "metadata": {
    "application/vnd.databricks.v1+cell": {
     "cellMetadata": {},
     "inputWidgets": {},
     "nuid": "eea5a24a-4dbe-477f-be18-f75aaf525611",
     "showTitle": false,
     "title": ""
    }
   },
   "outputs": [
    {
     "output_type": "stream",
     "name": "stdout",
     "output_type": "stream",
     "text": [
      "+----+---------+\n|Year|max(High)|\n+----+---------+\n|2015|    90.97|\n|2013|    81.37|\n|2014|    88.09|\n|2012|     77.6|\n|2016|    75.19|\n+----+---------+\n\n"
     ]
    }
   ],
   "source": [
    "# What is the max High per year?\n",
    "yeardf = df.withColumn('Year',year(df['Date']))\n",
    "maxdf = yeardf.groupBy('Year').max()\n",
    "maxdf.select('Year','max(High)').show()"
   ]
  },
  {
   "cell_type": "code",
   "execution_count": 0,
   "metadata": {
    "application/vnd.databricks.v1+cell": {
     "cellMetadata": {},
     "inputWidgets": {},
     "nuid": "2b1c5b5f-9925-4b54-b69d-fb77f7ed690f",
     "showTitle": false,
     "title": ""
    }
   },
   "outputs": [
    {
     "output_type": "stream",
     "name": "stdout",
     "output_type": "stream",
     "text": [
      "+-----+-----------------+\n|Month|       avg(Close)|\n+-----+-----------------+\n|    1| 71.4480196131338|\n|    2|71.30680438169499|\n|    3|71.77794376266337|\n|    4|72.97361900692894|\n|    5|72.30971685445533|\n|    6| 72.4953774506191|\n|    7|74.43971944078106|\n|    8| 73.0298185521906|\n|    9|72.18411782208611|\n|   10| 71.5785454489968|\n|   11|72.11108927207418|\n|   12|72.84792482628012|\n+-----+-----------------+\n\n"
     ]
    }
   ],
   "source": [
    "# What is the average Close for each Calendar Month?\n",
    "monthdf = df.withColumn('Month',month('Date'))\n",
    "monthavgs = monthdf.select(['Month','Close']).groupBy('Month').mean()\n",
    "monthavgs.select('Month','avg(Close)').orderBy('Month').show()"
   ]
  },
  {
   "cell_type": "code",
   "execution_count": 0,
   "metadata": {
    "application/vnd.databricks.v1+cell": {
     "cellMetadata": {},
     "inputWidgets": {},
     "nuid": "40ada28c-8e31-4f51-b74e-f627a3b75769",
     "showTitle": false,
     "title": ""
    }
   },
   "outputs": [],
   "source": []
  }
 ],
 "metadata": {
  "application/vnd.databricks.v1+notebook": {
   "dashboards": [],
   "language": "python",
   "notebookMetadata": {
    "pythonIndentUnit": 4
   },
   "notebookName": "Spark Data Frames Project Exercise",
   "widgets": {}
  }
 },
 "nbformat": 4,
 "nbformat_minor": 0
}
