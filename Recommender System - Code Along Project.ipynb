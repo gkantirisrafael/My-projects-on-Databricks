{
 "cells": [
  {
   "cell_type": "code",
   "execution_count": 0,
   "metadata": {
    "application/vnd.databricks.v1+cell": {
     "cellMetadata": {},
     "inputWidgets": {},
     "nuid": "a1b7ad29-464b-461c-8434-4281b22a8be5",
     "showTitle": false,
     "title": ""
    }
   },
   "outputs": [],
   "source": [
    "from pyspark.sql import SparkSession\n",
    "spark = SparkSession.builder.appName('recom').getOrCreate()\n",
    "from pyspark.ml.recommendation import ALS\n",
    "from pyspark.ml.evaluation import RegressionEvaluator\n",
    "data = spark.read.csv('dbfs:/FileStore/shared_uploads/gkantirisrafael@gmail.com/movielens_ratings.csv',header=True,inferSchema=True)"
   ]
  },
  {
   "cell_type": "code",
   "execution_count": 0,
   "metadata": {
    "application/vnd.databricks.v1+cell": {
     "cellMetadata": {},
     "inputWidgets": {},
     "nuid": "88bb552a-8e41-4727-b7f5-c081a889894e",
     "showTitle": false,
     "title": ""
    }
   },
   "outputs": [
    {
     "output_type": "stream",
     "name": "stdout",
     "output_type": "stream",
     "text": [
      "+-------+------+------+\n|movieId|rating|userId|\n+-------+------+------+\n|      2|   3.0|     0|\n|      3|   1.0|     0|\n|      5|   2.0|     0|\n+-------+------+------+\nonly showing top 3 rows\n\n"
     ]
    }
   ],
   "source": [
    "data.show(3)"
   ]
  },
  {
   "cell_type": "code",
   "execution_count": 0,
   "metadata": {
    "application/vnd.databricks.v1+cell": {
     "cellMetadata": {},
     "inputWidgets": {},
     "nuid": "6ebaa75d-3dee-442c-ae18-510bd25ac300",
     "showTitle": false,
     "title": ""
    }
   },
   "outputs": [
    {
     "output_type": "stream",
     "name": "stdout",
     "output_type": "stream",
     "text": [
      "+-------+------------------+------------------+------------------+\n|summary|           movieId|            rating|            userId|\n+-------+------------------+------------------+------------------+\n|  count|              1501|              1501|              1501|\n|   mean| 49.40572951365756|1.7741505662891406|14.383744170552964|\n| stddev|28.937034065088994| 1.187276166124803| 8.591040424293272|\n|    min|                 0|               1.0|                 0|\n|    max|                99|               5.0|                29|\n+-------+------------------+------------------+------------------+\n\n"
     ]
    }
   ],
   "source": [
    "data.describe().show()"
   ]
  },
  {
   "cell_type": "code",
   "execution_count": 0,
   "metadata": {
    "application/vnd.databricks.v1+cell": {
     "cellMetadata": {},
     "inputWidgets": {},
     "nuid": "066a91e4-7693-4b5a-89b5-976811ec00f5",
     "showTitle": false,
     "title": ""
    }
   },
   "outputs": [],
   "source": [
    "#We want to build a recommendation system for our 3 users\n",
    "#We will split the data into train and test sets\n",
    "training,test = data.randomSplit([0.8,0.2])"
   ]
  },
  {
   "cell_type": "code",
   "execution_count": 0,
   "metadata": {
    "application/vnd.databricks.v1+cell": {
     "cellMetadata": {},
     "inputWidgets": {},
     "nuid": "df8f0fdc-fbac-42d9-b765-bd9264f729f1",
     "showTitle": false,
     "title": ""
    }
   },
   "outputs": [],
   "source": [
    "#Now we will create our ALS model\n",
    "als = ALS(maxIter=5,regParam=0.01,userCol='userId',itemCol='movieId',ratingCol='rating')"
   ]
  },
  {
   "cell_type": "code",
   "execution_count": 0,
   "metadata": {
    "application/vnd.databricks.v1+cell": {
     "cellMetadata": {},
     "inputWidgets": {},
     "nuid": "d783fae4-6bf0-4a34-8ad4-16b1adfcb336",
     "showTitle": false,
     "title": ""
    }
   },
   "outputs": [],
   "source": [
    "#Now we will create a model\n",
    "model = als.fit(training)"
   ]
  },
  {
   "cell_type": "code",
   "execution_count": 0,
   "metadata": {
    "application/vnd.databricks.v1+cell": {
     "cellMetadata": {},
     "inputWidgets": {},
     "nuid": "cfca6f96-5033-48f2-8c97-426c5ee23ed1",
     "showTitle": false,
     "title": ""
    }
   },
   "outputs": [],
   "source": [
    "#Νow we will see how our model performed\n",
    "predictions = model.transform(test)"
   ]
  },
  {
   "cell_type": "code",
   "execution_count": 0,
   "metadata": {
    "application/vnd.databricks.v1+cell": {
     "cellMetadata": {},
     "inputWidgets": {},
     "nuid": "58d30ce9-5a4f-4f79-8d6a-d7042ea698fc",
     "showTitle": false,
     "title": ""
    }
   },
   "outputs": [
    {
     "output_type": "stream",
     "name": "stdout",
     "output_type": "stream",
     "text": [
      "+-------+------+------+----------+\n|movieId|rating|userId|prediction|\n+-------+------+------+----------+\n|      0|   1.0|    19| 0.6702602|\n|      1|   1.0|     5| 1.0954499|\n|      1|   1.0|    28| 6.3937554|\n|      2|   1.0|    23|   1.67413|\n+-------+------+------+----------+\nonly showing top 4 rows\n\n"
     ]
    }
   ],
   "source": [
    "predictions.show(4)"
   ]
  },
  {
   "cell_type": "code",
   "execution_count": 0,
   "metadata": {
    "application/vnd.databricks.v1+cell": {
     "cellMetadata": {},
     "inputWidgets": {},
     "nuid": "7d0d0aff-c3f5-46eb-a3dd-c714784069f3",
     "showTitle": false,
     "title": ""
    }
   },
   "outputs": [],
   "source": [
    "#We will see how we can more formally evaluate this model\n",
    "evaluator = RegressionEvaluator(metricName='rmse',labelCol='rating',predictionCol='prediction')"
   ]
  },
  {
   "cell_type": "code",
   "execution_count": 0,
   "metadata": {
    "application/vnd.databricks.v1+cell": {
     "cellMetadata": {},
     "inputWidgets": {},
     "nuid": "20c2255e-f09f-41e7-86dd-2e3c39428d92",
     "showTitle": false,
     "title": ""
    }
   },
   "outputs": [],
   "source": [
    "#rmse = root mean squared error\n",
    "rmse = evaluator.evaluate(predictions)"
   ]
  },
  {
   "cell_type": "code",
   "execution_count": 0,
   "metadata": {
    "application/vnd.databricks.v1+cell": {
     "cellMetadata": {},
     "inputWidgets": {},
     "nuid": "13769e83-607b-486e-88ce-25b864fd3fc4",
     "showTitle": false,
     "title": ""
    }
   },
   "outputs": [
    {
     "output_type": "stream",
     "name": "stdout",
     "output_type": "stream",
     "text": [
      "RMSE: 1.8446081980141715\n"
     ]
    }
   ],
   "source": [
    "print('RMSE:',rmse)"
   ]
  },
  {
   "cell_type": "code",
   "execution_count": 0,
   "metadata": {
    "application/vnd.databricks.v1+cell": {
     "cellMetadata": {},
     "inputWidgets": {},
     "nuid": "97a5c009-5232-47ba-ab76-66b40b9ddb76",
     "showTitle": false,
     "title": ""
    }
   },
   "outputs": [],
   "source": [
    "single_user = test.filter(test['userId']==11).select('movieId','userId')"
   ]
  },
  {
   "cell_type": "code",
   "execution_count": 0,
   "metadata": {
    "application/vnd.databricks.v1+cell": {
     "cellMetadata": {},
     "inputWidgets": {},
     "nuid": "1e2e8fc1-20bb-4123-a9c2-5e2734d26dad",
     "showTitle": false,
     "title": ""
    }
   },
   "outputs": [
    {
     "output_type": "stream",
     "name": "stdout",
     "output_type": "stream",
     "text": [
      "+-------+------+\n|movieId|userId|\n+-------+------+\n|     23|    11|\n|     30|    11|\n|     32|    11|\n|     40|    11|\n|     47|    11|\n|     66|    11|\n|     75|    11|\n|     76|    11|\n|     77|    11|\n|     86|    11|\n|     90|    11|\n|     99|    11|\n+-------+------+\n\n"
     ]
    }
   ],
   "source": [
    "single_user.show()"
   ]
  },
  {
   "cell_type": "code",
   "execution_count": 0,
   "metadata": {
    "application/vnd.databricks.v1+cell": {
     "cellMetadata": {},
     "inputWidgets": {},
     "nuid": "a1e190b4-cb1c-4e32-9d3e-54713bce87b2",
     "showTitle": false,
     "title": ""
    }
   },
   "outputs": [],
   "source": [
    "recommandations = model.transform(single_user)"
   ]
  },
  {
   "cell_type": "code",
   "execution_count": 0,
   "metadata": {
    "application/vnd.databricks.v1+cell": {
     "cellMetadata": {},
     "inputWidgets": {},
     "nuid": "2de50745-67b6-4114-a96a-0be0b05084e9",
     "showTitle": false,
     "title": ""
    }
   },
   "outputs": [
    {
     "output_type": "stream",
     "name": "stdout",
     "output_type": "stream",
     "text": [
      "+-------+------+------------+\n|movieId|userId|  prediction|\n+-------+------+------------+\n|     47|    11|    3.636132|\n|     23|    11|   3.0507095|\n|     32|    11|   2.3810744|\n|     30|    11|   2.0381036|\n|     99|    11|   1.3677499|\n|     75|    11|-0.052416984|\n|     77|    11|-0.090883374|\n|     90|    11| -0.17210558|\n|     40|    11| -0.17815378|\n|     86|    11| -0.42581415|\n|     76|    11|  -2.3493063|\n|     66|    11|  -2.9051952|\n+-------+------+------------+\n\n"
     ]
    }
   ],
   "source": [
    "recommandations.orderBy('prediction',ascending=False).show()"
   ]
  },
  {
   "cell_type": "code",
   "execution_count": 0,
   "metadata": {
    "application/vnd.databricks.v1+cell": {
     "cellMetadata": {},
     "inputWidgets": {},
     "nuid": "792059a3-1988-4a28-8e49-6b397dd4106b",
     "showTitle": false,
     "title": ""
    }
   },
   "outputs": [],
   "source": []
  }
 ],
 "metadata": {
  "application/vnd.databricks.v1+notebook": {
   "dashboards": [],
   "language": "python",
   "notebookMetadata": {
    "pythonIndentUnit": 4
   },
   "notebookName": "Recommender System - Code Along Project",
   "widgets": {}
  }
 },
 "nbformat": 4,
 "nbformat_minor": 0
}
