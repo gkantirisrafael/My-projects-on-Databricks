{
 "cells": [
  {
   "cell_type": "code",
   "execution_count": 0,
   "metadata": {
    "application/vnd.databricks.v1+cell": {
     "cellMetadata": {},
     "inputWidgets": {},
     "nuid": "e467023c-569a-40fd-970a-2f8394f7efa7",
     "showTitle": false,
     "title": ""
    }
   },
   "outputs": [],
   "source": [
    "#You have been contracted by Hyundai Heavy Industries to help them build a predictive model for some ships.#\n",
    "#They need accurate estimates of how many crew members a ship will requuire#\n",
    "#They are currently selling ships to customers and want to create a model and use it to predict how many crew members the ship will need#\n",
    "\n",
    "# We need to create a regression model that will help predict how many crew members will be needed to future ships#\n",
    "# In other words: Use the features that you think will be useful to predict the value in the crew column#\n",
    "\n",
    "#The client mentioned that they have found particular cruise lines will differ in acceptable crew counts, so its most likely an import feature to include#"
   ]
  },
  {
   "cell_type": "code",
   "execution_count": 0,
   "metadata": {
    "application/vnd.databricks.v1+cell": {
     "cellMetadata": {},
     "inputWidgets": {},
     "nuid": "5609f706-ea1a-4a48-8a0b-a521c6716580",
     "showTitle": false,
     "title": ""
    }
   },
   "outputs": [
    {
     "output_type": "stream",
     "name": "stdout",
     "output_type": "stream",
     "text": [
      "+---------+-----------+---+------------------+----------+------+------+-----------------+----+\n|Ship_name|Cruise_line|Age|           Tonnage|passengers|length|cabins|passenger_density|crew|\n+---------+-----------+---+------------------+----------+------+------+-----------------+----+\n|  Journey|    Azamara|  6|30.276999999999997|      6.94|  5.94|  3.55|            42.64|3.55|\n+---------+-----------+---+------------------+----------+------+------+-----------------+----+\nonly showing top 1 row\n\n"
     ]
    }
   ],
   "source": [
    "from pyspark.sql import SparkSession\n",
    "spark = SparkSession.builder.appName('Ship_Crew').getOrCreate()\n",
    "from pyspark.ml.regression import LinearRegression\n",
    "from pyspark.ml.linalg import Vectors\n",
    "from pyspark.ml.feature import VectorAssembler,StringIndexer\n",
    "df = spark.read.csv('dbfs:/FileStore/shared_uploads/gkantirisrafael@gmail.com/cruise_ship_info.csv',header=True,inferSchema=True)\n",
    "df.show(1)\n",
    "indexer = StringIndexer(inputCol='Cruise_line',outputCol='Cruise_Category')\n",
    "indexed = indexer.fit(df).transform(df)"
   ]
  },
  {
   "cell_type": "code",
   "execution_count": 0,
   "metadata": {
    "application/vnd.databricks.v1+cell": {
     "cellMetadata": {},
     "inputWidgets": {},
     "nuid": "30daee78-a47d-4e28-b43e-ebf60c5a4d35",
     "showTitle": false,
     "title": ""
    }
   },
   "outputs": [],
   "source": [
    "#We convert all those columns into 'features' column\n",
    "assembler = VectorAssembler(inputCols=['Age','Tonnage','passengers','length','cabins','passenger_density','Cruise_Category'],outputCol='features')"
   ]
  },
  {
   "cell_type": "code",
   "execution_count": 0,
   "metadata": {
    "application/vnd.databricks.v1+cell": {
     "cellMetadata": {},
     "inputWidgets": {},
     "nuid": "ffdb854e-db8f-4641-a739-a3309d70131d",
     "showTitle": false,
     "title": ""
    }
   },
   "outputs": [],
   "source": [
    "output = assembler.transform(indexed)"
   ]
  },
  {
   "cell_type": "code",
   "execution_count": 0,
   "metadata": {
    "application/vnd.databricks.v1+cell": {
     "cellMetadata": {},
     "inputWidgets": {},
     "nuid": "29469059-c1a9-43c2-8be2-077b4d7d12b4",
     "showTitle": false,
     "title": ""
    }
   },
   "outputs": [],
   "source": [
    "#We create the final data table with the CREW column(that we want to predict) and  FEATURES(That contains all the columns that we will get in consideration for the final crew prediction#\n",
    "final_data = output.select(['features','crew'])"
   ]
  },
  {
   "cell_type": "code",
   "execution_count": 0,
   "metadata": {
    "application/vnd.databricks.v1+cell": {
     "cellMetadata": {},
     "inputWidgets": {},
     "nuid": "ad612824-eced-4300-b0f3-03fb17e9f993",
     "showTitle": false,
     "title": ""
    }
   },
   "outputs": [],
   "source": [
    "#We split our data to train and test randomly\n",
    "train_data,test_data=final_data.randomSplit([0.7,0.3])"
   ]
  },
  {
   "cell_type": "code",
   "execution_count": 0,
   "metadata": {
    "application/vnd.databricks.v1+cell": {
     "cellMetadata": {},
     "inputWidgets": {},
     "nuid": "ced690e2-8e99-404b-9703-c1ec4ff84544",
     "showTitle": false,
     "title": ""
    }
   },
   "outputs": [],
   "source": [
    "#We create a linear regression model here\n",
    "lr = LinearRegression(labelCol='crew')"
   ]
  },
  {
   "cell_type": "code",
   "execution_count": 0,
   "metadata": {
    "application/vnd.databricks.v1+cell": {
     "cellMetadata": {},
     "inputWidgets": {},
     "nuid": "58eef926-81a5-47f6-a1c7-b4839d1e3eab",
     "showTitle": false,
     "title": ""
    }
   },
   "outputs": [],
   "source": [
    "lr_model = lr.fit(train_data)"
   ]
  },
  {
   "cell_type": "code",
   "execution_count": 0,
   "metadata": {
    "application/vnd.databricks.v1+cell": {
     "cellMetadata": {},
     "inputWidgets": {},
     "nuid": "b1fc3c0e-253f-477e-be8d-55974e35ccec",
     "showTitle": false,
     "title": ""
    }
   },
   "outputs": [
    {
     "output_type": "stream",
     "name": "stdout",
     "output_type": "stream",
     "text": [
      "Out[73]: 0.9484687441222431"
     ]
    }
   ],
   "source": [
    "#We evaluate our test data\n",
    "test_results = lr_model.evaluate(test_data)\n",
    "test_results.r2"
   ]
  },
  {
   "cell_type": "code",
   "execution_count": 0,
   "metadata": {
    "application/vnd.databricks.v1+cell": {
     "cellMetadata": {},
     "inputWidgets": {},
     "nuid": "daf86e22-6d05-47b2-9826-943cbbfaacf0",
     "showTitle": false,
     "title": ""
    }
   },
   "outputs": [],
   "source": [
    "# ΘΕΛΟΥΜΕ ΝΑ ΔΟΥΜΕ ΑΝ ΥΠΑΡΧΕΙ ΜΕΓΑΛΗ ΣΥΣΧΕΤΙΣΗ (CORR=1=ΤΕΛΕΙΑ ΣΥΣΧΕΤΙΣΗ), ΑΝΑΜΕΣΑ ΣΤΗ ΣΤΗΛΗ CREW ΚΑΙ ΣΕ ΚΑΠΟΙΑ ΑΛΛΗ"
   ]
  },
  {
   "cell_type": "code",
   "execution_count": 0,
   "metadata": {
    "application/vnd.databricks.v1+cell": {
     "cellMetadata": {},
     "inputWidgets": {},
     "nuid": "d9268714-f15c-4e92-8fa8-07ceb9b7b8f0",
     "showTitle": false,
     "title": ""
    }
   },
   "outputs": [
    {
     "output_type": "stream",
     "name": "stdout",
     "output_type": "stream",
     "text": [
      "+-------------------+\n|corr(crew, Tonnage)|\n+-------------------+\n|  0.927568811544939|\n+-------------------+\n\n"
     ]
    }
   ],
   "source": [
    "from pyspark.sql.functions import corr\n",
    "df.select(corr('crew','Tonnage')).show()"
   ]
  },
  {
   "cell_type": "code",
   "execution_count": 0,
   "metadata": {
    "application/vnd.databricks.v1+cell": {
     "cellMetadata": {},
     "inputWidgets": {},
     "nuid": "2a207700-56ac-48e4-993b-ff21a0861d5b",
     "showTitle": false,
     "title": ""
    }
   },
   "outputs": [],
   "source": [
    "#We predict the crew members\n",
    "unlabeled_data = test_data.select('features')"
   ]
  },
  {
   "cell_type": "code",
   "execution_count": 0,
   "metadata": {
    "application/vnd.databricks.v1+cell": {
     "cellMetadata": {},
     "inputWidgets": {},
     "nuid": "0cacd011-9be4-4d1d-a7d4-1e02a933e1e3",
     "showTitle": false,
     "title": ""
    }
   },
   "outputs": [],
   "source": [
    "predictions = lr_model.transform(unlabeled_data)"
   ]
  },
  {
   "cell_type": "code",
   "execution_count": 0,
   "metadata": {
    "application/vnd.databricks.v1+cell": {
     "cellMetadata": {},
     "inputWidgets": {},
     "nuid": "43eab11e-ed72-4cdb-bd9b-445931fcdec9",
     "showTitle": false,
     "title": ""
    }
   },
   "outputs": [
    {
     "output_type": "stream",
     "name": "stdout",
     "output_type": "stream",
     "text": [
      "+--------------------+------------------+\n|            features|        prediction|\n+--------------------+------------------+\n|[6.0,110.23899999...|10.912347143141853|\n|[6.0,158.0,43.7,1...|13.841182448685974|\n|[7.0,89.6,25.5,9....|11.071184874114655|\n|[7.0,158.0,43.7,1...|  13.7861658356047|\n|[9.0,88.5,21.24,9...| 9.525180466970063|\n|[9.0,110.0,29.74,...| 12.08268219773898|\n|[9.0,113.0,26.74,...|11.357404827887178|\n|[10.0,46.0,7.0,6....|2.7516109427993536|\n|[10.0,81.76899999...| 8.775343928910596|\n|[10.0,86.0,21.14,...| 9.688403486350076|\n|[10.0,91.62700000...| 9.201254778124538|\n|[11.0,86.0,21.24,...| 9.494392506486463|\n|[11.0,90.09,25.01...| 8.794419769693897|\n|[11.0,108.977,26....|11.106537871334124|\n|[11.0,138.0,31.14...|13.050854840994193|\n|[12.0,42.0,14.8,7...| 6.678775695523073|\n|[12.0,50.0,7.0,7....| 4.393760150395462|\n|[12.0,108.865,27....|10.852690082242855|\n|[13.0,61.0,13.8,7...| 6.458178778190409|\n|[13.0,101.509,27....|11.136650515266366|\n+--------------------+------------------+\nonly showing top 20 rows\n\n"
     ]
    }
   ],
   "source": [
    "predictions.show()"
   ]
  },
  {
   "cell_type": "code",
   "execution_count": 0,
   "metadata": {
    "application/vnd.databricks.v1+cell": {
     "cellMetadata": {},
     "inputWidgets": {},
     "nuid": "41c45127-c7a9-4709-8b9c-9a2304aa8e91",
     "showTitle": false,
     "title": ""
    }
   },
   "outputs": [],
   "source": []
  }
 ],
 "metadata": {
  "application/vnd.databricks.v1+notebook": {
   "dashboards": [],
   "language": "python",
   "notebookMetadata": {
    "pythonIndentUnit": 4
   },
   "notebookName": "LR Consulting Project",
   "widgets": {}
  }
 },
 "nbformat": 4,
 "nbformat_minor": 0
}
