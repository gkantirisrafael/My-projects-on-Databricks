{
 "cells": [
  {
   "cell_type": "code",
   "execution_count": 0,
   "metadata": {
    "application/vnd.databricks.v1+cell": {
     "cellMetadata": {},
     "inputWidgets": {},
     "nuid": "7bc22340-a743-4d77-ab31-62959b95129c",
     "showTitle": false,
     "title": ""
    }
   },
   "outputs": [],
   "source": [
    "from pyspark.sql import SparkSession\n",
    "spark = SparkSession.builder.appName('nlp').getOrCreate()\n",
    "data = spark.read.csv('dbfs:/FileStore/shared_uploads/gkantirisrafael@gmail.com/SMSSpamCollection',inferSchema=True,sep='\\t')"
   ]
  },
  {
   "cell_type": "code",
   "execution_count": 0,
   "metadata": {
    "application/vnd.databricks.v1+cell": {
     "cellMetadata": {},
     "inputWidgets": {},
     "nuid": "51998881-2103-4e7f-8760-6f0da89ffbc7",
     "showTitle": false,
     "title": ""
    }
   },
   "outputs": [
    {
     "output_type": "stream",
     "name": "stdout",
     "output_type": "stream",
     "text": [
      "+-----+--------------------+\n|class|                text|\n+-----+--------------------+\n|  ham|Go until jurong p...|\n|  ham|Ok lar... Joking ...|\n| spam|Free entry in 2 a...|\n|  ham|U dun say so earl...|\n|  ham|Nah I don't think...|\n| spam|FreeMsg Hey there...|\n|  ham|Even my brother i...|\n|  ham|As per your reque...|\n| spam|WINNER!! As a val...|\n| spam|Had your mobile 1...|\n|  ham|I'm gonna be home...|\n| spam|SIX chances to wi...|\n| spam|URGENT! You have ...|\n|  ham|I've been searchi...|\n|  ham|I HAVE A DATE ON ...|\n| spam|XXXMobileMovieClu...|\n|  ham|Oh k...i'm watchi...|\n|  ham|Eh u remember how...|\n|  ham|Fine if thats th...|\n| spam|England v Macedon...|\n+-----+--------------------+\nonly showing top 20 rows\n\n"
     ]
    }
   ],
   "source": [
    "data = data.withColumnRenamed('_c0','class').withColumnRenamed('_c1','text')\n",
    "data.show()"
   ]
  },
  {
   "cell_type": "code",
   "execution_count": 0,
   "metadata": {
    "application/vnd.databricks.v1+cell": {
     "cellMetadata": {},
     "inputWidgets": {},
     "nuid": "a87b90fe-20ef-48cb-8dab-3e637ea4638f",
     "showTitle": false,
     "title": ""
    }
   },
   "outputs": [],
   "source": [
    "from pyspark.sql.functions import length\n",
    "data = data.withColumn('length',length(data['text']))"
   ]
  },
  {
   "cell_type": "code",
   "execution_count": 0,
   "metadata": {
    "application/vnd.databricks.v1+cell": {
     "cellMetadata": {},
     "inputWidgets": {},
     "nuid": "dfc10ddc-e314-4f12-be7d-eb6820ae25ab",
     "showTitle": false,
     "title": ""
    }
   },
   "outputs": [
    {
     "output_type": "stream",
     "name": "stdout",
     "output_type": "stream",
     "text": [
      "+-----+-----------------+\n|class|      avg(length)|\n+-----+-----------------+\n|  ham| 71.4545266210897|\n| spam|138.6706827309237|\n+-----+-----------------+\n\n"
     ]
    }
   ],
   "source": [
    "#We can see that the average length of the spam sms is longer than the normal sms\n",
    "data.groupBy('class').mean().show()"
   ]
  },
  {
   "cell_type": "code",
   "execution_count": 0,
   "metadata": {
    "application/vnd.databricks.v1+cell": {
     "cellMetadata": {},
     "inputWidgets": {},
     "nuid": "bec03e2d-2707-4e00-b464-1f83d082d63e",
     "showTitle": false,
     "title": ""
    }
   },
   "outputs": [],
   "source": [
    "from pyspark.ml.feature import Tokenizer,StopWordsRemover,CountVectorizer,IDF,StringIndexer"
   ]
  },
  {
   "cell_type": "code",
   "execution_count": 0,
   "metadata": {
    "application/vnd.databricks.v1+cell": {
     "cellMetadata": {},
     "inputWidgets": {},
     "nuid": "102a8566-aec6-4d21-8ebe-4926f5c33c7f",
     "showTitle": false,
     "title": ""
    }
   },
   "outputs": [],
   "source": [
    "tokenizer = Tokenizer(inputCol='text',outputCol='token_text')\n",
    "stop_remove = StopWordsRemover(inputCol='token_text',outputCol='stop_tokens')\n",
    "count_vec = CountVectorizer(inputCol='stop_tokens',outputCol='c_vec')\n",
    "idf = IDF(inputCol='c_vec',outputCol='tf_idf')\n",
    "#tf = Term frequency, idf = Inverse document frequency\n",
    "ham_spam_to_numeric = StringIndexer(inputCol='class',outputCol='label')"
   ]
  },
  {
   "cell_type": "code",
   "execution_count": 0,
   "metadata": {
    "application/vnd.databricks.v1+cell": {
     "cellMetadata": {},
     "inputWidgets": {},
     "nuid": "188fa7fb-e873-4336-ab83-ffb5625aced4",
     "showTitle": false,
     "title": ""
    }
   },
   "outputs": [],
   "source": [
    "from pyspark.ml.feature import VectorAssembler\n",
    "clean_up = VectorAssembler(inputCols=['tf_idf','length'],outputCol='features')"
   ]
  },
  {
   "cell_type": "code",
   "execution_count": 0,
   "metadata": {
    "application/vnd.databricks.v1+cell": {
     "cellMetadata": {},
     "inputWidgets": {},
     "nuid": "7ae6a962-4980-473c-bc44-76bec13c2df9",
     "showTitle": false,
     "title": ""
    }
   },
   "outputs": [],
   "source": [
    "from pyspark.ml.classification import NaiveBayes"
   ]
  },
  {
   "cell_type": "code",
   "execution_count": 0,
   "metadata": {
    "application/vnd.databricks.v1+cell": {
     "cellMetadata": {},
     "inputWidgets": {},
     "nuid": "eedccd72-1189-4243-8431-a4da6a51923c",
     "showTitle": false,
     "title": ""
    }
   },
   "outputs": [],
   "source": [
    "nb = NaiveBayes()"
   ]
  },
  {
   "cell_type": "code",
   "execution_count": 0,
   "metadata": {
    "application/vnd.databricks.v1+cell": {
     "cellMetadata": {},
     "inputWidgets": {},
     "nuid": "9d6d12ba-0030-4b64-9a0d-ea3b1ad6e9b5",
     "showTitle": false,
     "title": ""
    }
   },
   "outputs": [],
   "source": [
    "from pyspark.ml import Pipeline"
   ]
  },
  {
   "cell_type": "code",
   "execution_count": 0,
   "metadata": {
    "application/vnd.databricks.v1+cell": {
     "cellMetadata": {},
     "inputWidgets": {},
     "nuid": "6272e06a-ddc8-4acf-9962-ccda498e1731",
     "showTitle": false,
     "title": ""
    }
   },
   "outputs": [],
   "source": [
    "data_prep_pipe = Pipeline(stages=[ham_spam_to_numeric,tokenizer,stop_remove,count_vec,idf,clean_up])"
   ]
  },
  {
   "cell_type": "code",
   "execution_count": 0,
   "metadata": {
    "application/vnd.databricks.v1+cell": {
     "cellMetadata": {},
     "inputWidgets": {},
     "nuid": "e8cf1434-6243-48db-bfb9-aa9e16a65c86",
     "showTitle": false,
     "title": ""
    }
   },
   "outputs": [],
   "source": [
    "cleaner = data_prep_pipe.fit(data)"
   ]
  },
  {
   "cell_type": "code",
   "execution_count": 0,
   "metadata": {
    "application/vnd.databricks.v1+cell": {
     "cellMetadata": {},
     "inputWidgets": {},
     "nuid": "4a63500f-84b9-407e-aa6f-e599c2aed887",
     "showTitle": false,
     "title": ""
    }
   },
   "outputs": [],
   "source": [
    "clean_data = cleaner.transform(data)"
   ]
  },
  {
   "cell_type": "code",
   "execution_count": 0,
   "metadata": {
    "application/vnd.databricks.v1+cell": {
     "cellMetadata": {},
     "inputWidgets": {},
     "nuid": "11d78f10-3855-4afb-9586-c59a1a7deab4",
     "showTitle": false,
     "title": ""
    }
   },
   "outputs": [],
   "source": [
    "clean_data = clean_data.select('label','features')"
   ]
  },
  {
   "cell_type": "code",
   "execution_count": 0,
   "metadata": {
    "application/vnd.databricks.v1+cell": {
     "cellMetadata": {},
     "inputWidgets": {},
     "nuid": "8e663eef-63f9-4026-b36a-d6e97472e948",
     "showTitle": false,
     "title": ""
    }
   },
   "outputs": [
    {
     "output_type": "stream",
     "name": "stdout",
     "output_type": "stream",
     "text": [
      "+-----+--------------------+\n|label|            features|\n+-----+--------------------+\n|  0.0|(13424,[7,11,31,6...|\n|  0.0|(13424,[0,24,301,...|\n|  1.0|(13424,[2,13,19,3...|\n|  0.0|(13424,[0,70,80,1...|\n|  0.0|(13424,[36,134,31...|\n|  1.0|(13424,[10,60,140...|\n|  0.0|(13424,[10,53,102...|\n|  0.0|(13424,[127,185,4...|\n|  1.0|(13424,[1,47,121,...|\n|  1.0|(13424,[0,1,13,27...|\n|  0.0|(13424,[18,43,117...|\n|  1.0|(13424,[8,16,37,8...|\n|  1.0|(13424,[13,30,47,...|\n|  0.0|(13424,[39,95,221...|\n|  0.0|(13424,[555,1797,...|\n|  1.0|(13424,[30,109,11...|\n|  0.0|(13424,[82,214,44...|\n|  0.0|(13424,[0,2,49,13...|\n|  0.0|(13424,[0,74,105,...|\n|  1.0|(13424,[4,30,33,5...|\n+-----+--------------------+\nonly showing top 20 rows\n\n"
     ]
    }
   ],
   "source": [
    "clean_data.show()"
   ]
  },
  {
   "cell_type": "code",
   "execution_count": 0,
   "metadata": {
    "application/vnd.databricks.v1+cell": {
     "cellMetadata": {},
     "inputWidgets": {},
     "nuid": "42a61658-aac8-4052-bbc8-73f704935dc8",
     "showTitle": false,
     "title": ""
    }
   },
   "outputs": [],
   "source": [
    "training,test = clean_data.randomSplit([0.7,0.3])"
   ]
  },
  {
   "cell_type": "code",
   "execution_count": 0,
   "metadata": {
    "application/vnd.databricks.v1+cell": {
     "cellMetadata": {},
     "inputWidgets": {},
     "nuid": "eb699c55-214c-464b-9fb8-34ae89d1f9ac",
     "showTitle": false,
     "title": ""
    }
   },
   "outputs": [],
   "source": [
    "my_spam_detector = nb.fit(training)"
   ]
  },
  {
   "cell_type": "code",
   "execution_count": 0,
   "metadata": {
    "application/vnd.databricks.v1+cell": {
     "cellMetadata": {},
     "inputWidgets": {},
     "nuid": "0756e228-943d-4af6-a415-c7e863fc4c74",
     "showTitle": false,
     "title": ""
    }
   },
   "outputs": [],
   "source": [
    "test_results = my_spam_detector.transform(test)"
   ]
  },
  {
   "cell_type": "code",
   "execution_count": 0,
   "metadata": {
    "application/vnd.databricks.v1+cell": {
     "cellMetadata": {},
     "inputWidgets": {},
     "nuid": "6a5fb81e-a18a-443c-a088-87287b1a3a87",
     "showTitle": false,
     "title": ""
    }
   },
   "outputs": [
    {
     "output_type": "stream",
     "name": "stdout",
     "output_type": "stream",
     "text": [
      "+-----+--------------------+--------------------+--------------------+----------+\n|label|            features|       rawPrediction|         probability|prediction|\n+-----+--------------------+--------------------+--------------------+----------+\n|  0.0|(13424,[0,1,2,7,8...|[-790.85149057146...|[1.0,8.4048323566...|       0.0|\n|  0.0|(13424,[0,1,3,9,1...|[-591.24452123209...|[0.99999999986063...|       0.0|\n|  0.0|(13424,[0,1,5,20,...|[-801.99960801431...|[1.0,4.8977762663...|       0.0|\n|  0.0|(13424,[0,1,7,8,1...|[-1208.4974551588...|[1.0,8.6041211030...|       0.0|\n|  0.0|(13424,[0,1,7,15,...|[-664.29632549834...|[1.0,2.2390633535...|       0.0|\n|  0.0|(13424,[0,1,14,18...|[-1362.6882939337...|[1.0,7.7179293676...|       0.0|\n|  0.0|(13424,[0,1,20,27...|[-990.27721801450...|[0.99999977676425...|       0.0|\n|  0.0|(13424,[0,1,21,27...|[-992.03256125345...|[1.0,5.0335562752...|       0.0|\n|  0.0|(13424,[0,1,23,63...|[-1282.7916144709...|[1.0,2.6222359986...|       0.0|\n|  0.0|(13424,[0,1,71,10...|[-698.07734420181...|[1.0,4.9031614841...|       0.0|\n|  0.0|(13424,[0,1,428,6...|[-321.95256806100...|[0.99999470212310...|       0.0|\n|  0.0|(13424,[0,1,500,5...|[-319.84766653959...|[0.99999999999950...|       0.0|\n|  0.0|(13424,[0,1,881,1...|[-96.051936105544...|[0.99999999542083...|       0.0|\n|  0.0|(13424,[0,2,3,6,9...|[-3274.6171527544...|[1.0,1.4258085150...|       0.0|\n|  0.0|(13424,[0,2,3,8,2...|[-1591.6365108165...|[1.0,1.0498892858...|       0.0|\n|  0.0|(13424,[0,2,4,5,1...|[-2492.6052120356...|[1.0,3.3465983052...|       0.0|\n|  0.0|(13424,[0,2,4,40,...|[-1586.6996647579...|[0.98753105152630...|       0.0|\n|  0.0|(13424,[0,2,4,44,...|[-1922.4375713259...|[1.0,9.5344578777...|       0.0|\n|  0.0|(13424,[0,2,7,8,1...|[-694.32730005945...|[1.0,1.3901395727...|       0.0|\n|  0.0|(13424,[0,2,7,8,1...|[-451.37154806484...|[1.0,2.5989809852...|       0.0|\n+-----+--------------------+--------------------+--------------------+----------+\nonly showing top 20 rows\n\n"
     ]
    }
   ],
   "source": [
    "test_results.show()"
   ]
  },
  {
   "cell_type": "code",
   "execution_count": 0,
   "metadata": {
    "application/vnd.databricks.v1+cell": {
     "cellMetadata": {},
     "inputWidgets": {},
     "nuid": "fd330be0-d3b6-4c00-99a1-0372fa1c6a8b",
     "showTitle": false,
     "title": ""
    }
   },
   "outputs": [],
   "source": [
    "from pyspark.ml.evaluation  import MulticlassClassificationEvaluator"
   ]
  },
  {
   "cell_type": "code",
   "execution_count": 0,
   "metadata": {
    "application/vnd.databricks.v1+cell": {
     "cellMetadata": {},
     "inputWidgets": {},
     "nuid": "e2dfcd8a-6779-4727-9bc7-2d3d535c212a",
     "showTitle": false,
     "title": ""
    }
   },
   "outputs": [],
   "source": [
    "acc_eval = MulticlassClassificationEvaluator()"
   ]
  },
  {
   "cell_type": "code",
   "execution_count": 0,
   "metadata": {
    "application/vnd.databricks.v1+cell": {
     "cellMetadata": {},
     "inputWidgets": {},
     "nuid": "562bb01c-82a9-4af0-bde4-f360659e4850",
     "showTitle": false,
     "title": ""
    }
   },
   "outputs": [],
   "source": [
    "my_acc = acc_eval.evaluate(test_results)"
   ]
  },
  {
   "cell_type": "code",
   "execution_count": 0,
   "metadata": {
    "application/vnd.databricks.v1+cell": {
     "cellMetadata": {},
     "inputWidgets": {},
     "nuid": "2bedebe4-a759-47c9-9f2d-b6e460265a86",
     "showTitle": false,
     "title": ""
    }
   },
   "outputs": [
    {
     "output_type": "stream",
     "name": "stdout",
     "output_type": "stream",
     "text": [
      "Accuracy of NB model: 0.9251594416129116\n"
     ]
    }
   ],
   "source": [
    "print('Accuracy of NB model:',my_acc)"
   ]
  },
  {
   "cell_type": "code",
   "execution_count": 0,
   "metadata": {
    "application/vnd.databricks.v1+cell": {
     "cellMetadata": {},
     "inputWidgets": {},
     "nuid": "078c3573-3f00-4cfe-b622-fb3d259fc11e",
     "showTitle": false,
     "title": ""
    }
   },
   "outputs": [],
   "source": []
  }
 ],
 "metadata": {
  "application/vnd.databricks.v1+notebook": {
   "dashboards": [],
   "language": "python",
   "notebookMetadata": {
    "pythonIndentUnit": 4
   },
   "notebookName": "Natural Language Processing Code Along",
   "widgets": {}
  }
 },
 "nbformat": 4,
 "nbformat_minor": 0
}
